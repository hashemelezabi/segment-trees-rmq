{
 "cells": [
  {
   "cell_type": "code",
   "execution_count": 1,
   "metadata": {},
   "outputs": [],
   "source": [
    "#include <iostream>\n",
    "#include <algorithm>\n",
    "#include <utility>\n",
    "#include <limits>\n",
    "#include <vector>\n",
    "#include <random>\n",
    "#include <chrono>\n",
    "#include <numeric>\n",
    "#include <stdexcept>\n",
    "#include <assert.h>\n",
    "#include <math.h>\n",
    "\n",
    "using namespace std;\n",
    "using std::chrono::duration;\n",
    "\n",
    "typedef pair<int, pair<unsigned int, unsigned int> > STNodeData;\n",
    "typedef vector<STNodeData> STNodeVec;\n",
    "typedef vector<int> IntVec;\n",
    "\n",
    "struct Node {\n",
    "    int val;\n",
    "    Node* left = nullptr;\n",
    "    Node* right = nullptr;\n",
    "    pair<unsigned int, unsigned int> range;\n",
    "};\n",
    "\n",
    "Node* build_st_nodes(vector<int>& v);\n",
    "int build_st_nodes_recurse(vector<int>& v, Node* curr_node, size_t i, size_t j);\n",
    "int st_nodes_rmq(vector<int>& v, size_t i, size_t j, const Node* curr_node);\n",
    "\n",
    "vector<STNodeData> *build_st_vec(vector<int>& v);\n",
    "int build_st_vec_recurse(vector<int>& v, vector<STNodeData> &st_vec, size_t curr_idx, size_t i, size_t j);\n",
    "int st_vec_rmq(vector<int>& v, size_t i, size_t j, const vector<STNodeData> &st_vec, size_t curr_idx);\n",
    "\n",
    "vector<int>* build_st_small_vec(vector<int>& v);\n",
    "int build_st_small_vec_recurse(vector<int>& v, vector<int>& st_vec, size_t curr_idx, size_t i, size_t j);\n",
    "int st_small_vec_rmq(vector<int> &v, size_t i, size_t j, const vector<int>& st_vec, size_t curr_idx, size_t s, size_t e);"
   ]
  },
  {
   "cell_type": "markdown",
   "metadata": {},
   "source": [
    "## Segment tree node pointer implementation"
   ]
  },
  {
   "cell_type": "code",
   "execution_count": 2,
   "metadata": {},
   "outputs": [],
   "source": [
    "/*\n",
    " * Recurisvely builds the segment tree.\n",
    " */\n",
    "int build_st_nodes_recurse(vector<int>& v, Node* curr_node, size_t i, size_t j) {\n",
    "    curr_node->range.first = i;\n",
    "    curr_node->range.second = j;\n",
    "    if (i == j) {\n",
    "        curr_node->val = v[i];\n",
    "        return curr_node->val; // will this be (noticeably) faster than v[i] since curr_node->val is the latest thing accessed in memory?\n",
    "    }\n",
    "    size_t half = (j - i) / 2;\n",
    "    curr_node->left = new Node;\n",
    "    curr_node->right = new Node;\n",
    "    int left_min = build_st_nodes_recurse(v, curr_node->left, i, i + half);\n",
    "    int right_min = build_st_nodes_recurse(v, curr_node->right, ((j - i) % 2) ? (j - half) : (j - half + 1), j);\n",
    "    curr_node->val = min(left_min, right_min);\n",
    "    return curr_node->val;\n",
    "}"
   ]
  },
  {
   "cell_type": "code",
   "execution_count": 3,
   "metadata": {},
   "outputs": [],
   "source": [
    "/* Takes a vector<int> v and builds a segment tree out of it\n",
    " * for answering range minimum queries in O(log n) time. The\n",
    " * segment tree is represented with nodes and child pointers.\n",
    " *\n",
    " * Returns a pointer to the root of the constructed segment tree.\n",
    " */\n",
    "Node* build_st_nodes(vector<int>& v) {\n",
    "    if (v.empty())\n",
    "        return nullptr;\n",
    "    Node* root = new Node;\n",
    "    build_st_nodes_recurse(v, root, 0, v.size() - 1);\n",
    "    return root;\n",
    "}"
   ]
  },
  {
   "cell_type": "code",
   "execution_count": 4,
   "metadata": {},
   "outputs": [],
   "source": [
    "/* Takes a vector<int> v, two indices i, j representing\n",
    " * the beginning and end of the query range respectively,\n",
    " * and a pointer to the root of the constructed segment\n",
    " * tree.\n",
    " *\n",
    " * Returns the minimum element in v between i and j inclusive\n",
    " * using the segment tree data structure.\n",
    " */\n",
    "int st_nodes_rmq(vector<int>& v, size_t i, size_t j, const Node* curr_node) {\n",
    "    if (i > j || j >= v.size())\n",
    "        throw invalid_argument(\"received invalid query range\");\n",
    "    if (i <= curr_node->range.first && j >= curr_node->range.second)\n",
    "        return curr_node->val;\n",
    "    if (j < curr_node->range.first || i > curr_node->range.second)\n",
    "        return numeric_limits<int>::max();\n",
    "    return min(st_nodes_rmq(v, i, j, curr_node->left), st_nodes_rmq(v, i, j, curr_node->right));\n",
    "}"
   ]
  },
  {
   "cell_type": "markdown",
   "metadata": {},
   "source": [
    "## Segment tree vector implementation"
   ]
  },
  {
   "cell_type": "code",
   "execution_count": 5,
   "metadata": {},
   "outputs": [],
   "source": [
    "int build_st_vec_recurse(vector<int>& v, vector<STNodeData>& st_vec, size_t curr_idx, size_t i, size_t j) {\n",
    "    // st_vec[curr_idx] is a pair<int, pair<unsigned int, unsigned int> >\n",
    "    st_vec[curr_idx].second.first = i;\n",
    "    st_vec[curr_idx].second.second = j;\n",
    "    if (i == j) {\n",
    "        st_vec[curr_idx].first = v[i];\n",
    "        return st_vec[curr_idx].first;\n",
    "    }\n",
    "    size_t half = (j - i) / 2;\n",
    "    int left_min = build_st_vec_recurse(v, st_vec, curr_idx * 2 + 1, i, i + half);\n",
    "    int right_min = build_st_vec_recurse(v, st_vec, curr_idx * 2 + 2, ((j - i) % 2) ? (j - half) : (j - half + 1), j);\n",
    "    st_vec[curr_idx].first = min(left_min, right_min);\n",
    "    return st_vec[curr_idx].first;\n",
    "}"
   ]
  },
  {
   "cell_type": "code",
   "execution_count": 6,
   "metadata": {},
   "outputs": [],
   "source": [
    "STNodeVec* build_st_vec(vector<int>& v) {\n",
    "    if (v.empty())\n",
    "        return nullptr;\n",
    "    vector<STNodeData>* st_vec = new vector<STNodeData>((int) 2 * pow(2.0, ceil(log2(v.size()))));\n",
    "    build_st_vec_recurse(v, *st_vec, 0, 0, v.size() - 1);\n",
    "    return st_vec;\n",
    "}"
   ]
  },
  {
   "cell_type": "code",
   "execution_count": 7,
   "metadata": {},
   "outputs": [],
   "source": [
    "int st_vec_rmq(vector<int> &v, size_t i, size_t j, const vector<STNodeData>& st_vec, size_t curr_idx) {\n",
    "    if (i > j || j >= v.size())\n",
    "        throw invalid_argument(\"received invalid query range\");\n",
    "    if (i <= st_vec[curr_idx].second.first && j >= st_vec[curr_idx].second.second)\n",
    "        return st_vec[curr_idx].first;\n",
    "    if (j < st_vec[curr_idx].second.first || i > st_vec[curr_idx].second.second)\n",
    "        return numeric_limits<int>::max();\n",
    "    return min(st_vec_rmq(v, i, j, st_vec, curr_idx * 2 + 1), st_vec_rmq(v, i, j, st_vec, curr_idx * 2 + 2));\n",
    "}"
   ]
  },
  {
   "cell_type": "markdown",
   "metadata": {},
   "source": [
    "## Segment tree vector implementation, no stored ranges"
   ]
  },
  {
   "cell_type": "code",
   "execution_count": 8,
   "metadata": {},
   "outputs": [],
   "source": [
    "int build_st_small_vec_recurse(vector<int>& v, vector<int>& st_vec, size_t curr_idx, size_t i, size_t j) {\n",
    "    if (i == j) {\n",
    "        st_vec[curr_idx] = v[i];\n",
    "        return st_vec[curr_idx];\n",
    "    }\n",
    "    size_t half = (j - i) / 2;\n",
    "    int left_min = build_st_small_vec_recurse(v, st_vec, curr_idx * 2 + 1, i, i + half);\n",
    "    int right_min = build_st_small_vec_recurse(v, st_vec, curr_idx * 2 + 2, ((j - i) % 2) ? (j - half) : (j - half + 1), j);\n",
    "    st_vec[curr_idx] = min(left_min, right_min);\n",
    "    return st_vec[curr_idx];\n",
    "}"
   ]
  },
  {
   "cell_type": "code",
   "execution_count": 9,
   "metadata": {},
   "outputs": [],
   "source": [
    "IntVec* build_st_small_vec(vector<int>& v) {\n",
    "    if (v.empty())\n",
    "        return nullptr;\n",
    "    vector<int>* st_vec = new vector<int>((int) 2 * pow(2.0, ceil(log2(v.size()))));\n",
    "    build_st_small_vec_recurse(v, *st_vec, 0, 0, v.size() - 1);\n",
    "    return st_vec;\n",
    "}"
   ]
  },
  {
   "cell_type": "code",
   "execution_count": 10,
   "metadata": {},
   "outputs": [],
   "source": [
    "int st_small_vec_rmq(vector<int> &v, size_t i, size_t j, const vector<int>& st_vec, size_t curr_idx, size_t s, size_t e) {\n",
    "    if (i > j || j >= v.size())\n",
    "        throw invalid_argument(\"received invalid query range\");\n",
    "    if (i <= s && j >= e)\n",
    "        return st_vec[curr_idx];\n",
    "    if (j < s || i > e)\n",
    "        return numeric_limits<int>::max();\n",
    "    size_t half = (e - s) / 2;\n",
    "    return min(st_small_vec_rmq(v, i, j, st_vec, curr_idx * 2 + 1, s, s + half),\n",
    "               st_small_vec_rmq(v, i, j, st_vec, curr_idx * 2 + 2, ((e - s) % 2) ? (e - half) : (e - half + 1), e));\n",
    "}"
   ]
  },
  {
   "cell_type": "markdown",
   "metadata": {},
   "source": [
    "## A couple helper functions"
   ]
  },
  {
   "cell_type": "code",
   "execution_count": 11,
   "metadata": {},
   "outputs": [],
   "source": [
    "int linear_rmq(vector<int>& v, size_t i, size_t j) {\n",
    "    int ans = numeric_limits<int>::max();\n",
    "    for (int k = i; k <= j; k++) {\n",
    "        if (v[k] < ans)\n",
    "            ans = v[k];\n",
    "    }\n",
    "    return ans;\n",
    "}"
   ]
  },
  {
   "cell_type": "code",
   "execution_count": 12,
   "metadata": {},
   "outputs": [],
   "source": [
    "/*\n",
    " * Destroys the tree rooted at the given curr_node. If given the pointer\n",
    " * to the root of the segment tree, it recursively deletes the entire tree.\n",
    " */\n",
    "void destroy_st(Node* curr_node) {\n",
    "    if (curr_node == nullptr)\n",
    "        return;\n",
    "    Node* left = curr_node->left;\n",
    "    Node* right = curr_node->right;\n",
    "    delete curr_node;\n",
    "    destroy_st(left);\n",
    "    destroy_st(right);\n",
    "}"
   ]
  },
  {
   "cell_type": "markdown",
   "metadata": {},
   "source": [
    "## Testing"
   ]
  },
  {
   "cell_type": "code",
   "execution_count": 13,
   "metadata": {},
   "outputs": [],
   "source": [
    "random_device rd;\n",
    "mt19937 rng(rd());\n",
    "uniform_int_distribution<int> dist(-1000, 1000);\n",
    "\n",
    "// preprocess and query times for nodes implementation\n",
    "vector<double> n_preprocess_times;\n",
    "vector<double> n_query_times;\n",
    "// preprocess and query times for vec implementation\n",
    "vector<double> v_preprocess_times;\n",
    "vector<double> v_query_times;\n",
    "// preprocess and query times for small vec implementation (no stored ranges)\n",
    "vector<double> sv_preprocess_times;\n",
    "vector<double> sv_query_times;\n",
    "\n",
    "vector<int> n_vals;\n",
    "int num_queries;"
   ]
  },
  {
   "cell_type": "code",
   "execution_count": 15,
   "metadata": {},
   "outputs": [],
   "source": [
    "n_vals = {(int) 1e4, (int) 1e5, (int) 1e6, (int) 1e7, (int) 1e8};\n",
    "num_queries = 50;"
   ]
  },
  {
   "cell_type": "code",
   "execution_count": 16,
   "metadata": {},
   "outputs": [],
   "source": [
    "for (size_t i = 0; i < n_vals.size(); i++) {\n",
    "    int n = n_vals[i]; // current size of v for timing\n",
    "    vector<int> v(n);\n",
    "    auto gen = [](){\n",
    "        return dist(rng);\n",
    "    };\n",
    "    generate(v.begin(), v.end(), gen); // std::generate from <algorithm>; third param is a generator\n",
    "    auto p_t1 = chrono::high_resolution_clock::now();\n",
    "    Node* st = build_st_nodes(v); // pointer to root of constructed segment tree\n",
    "    auto p_t2 = chrono::high_resolution_clock::now();\n",
    "    n_preprocess_times.push_back(chrono::duration_cast<chrono::microseconds>(p_t2 - p_t1).count());\n",
    "    vector<double> individual_query_times;\n",
    "    for (int j = 0; j < num_queries; j++) {\n",
    "        int s = rand() % n; // query range start\n",
    "        int e = rand() % (n - s) + s; // query range end\n",
    "        auto q_t1 = chrono::high_resolution_clock::now();\n",
    "        int ans = st_nodes_rmq(v, s, e, st); // query answer (min element between indices s and e inclusive)\n",
    "        auto q_t2 = chrono::high_resolution_clock::now();\n",
    "        assert(ans == linear_rmq(v, s, e));\n",
    "        individual_query_times.push_back(chrono::duration_cast<chrono::nanoseconds>(q_t2 - q_t1).count());\n",
    "    }\n",
    "    n_query_times.push_back(accumulate(individual_query_times.begin(), individual_query_times.end(), 0)\n",
    "                         / num_queries);\n",
    "    // free the memory allocated for the segment tree\n",
    "    destroy_st(st);\n",
    "}"
   ]
  },
  {
   "cell_type": "code",
   "execution_count": 17,
   "metadata": {},
   "outputs": [
    {
     "name": "stdout",
     "output_type": "stream",
     "text": [
      "Size: 10000\n",
      "Preprocessing time in ms: 28.529\n",
      "Avg query time in us (over 50 queries): 56.156\n",
      "\n",
      "Size: 100000\n",
      "Preprocessing time in ms: 281.234\n",
      "Avg query time in us (over 50 queries): 72.803\n",
      "\n",
      "Size: 1000000\n",
      "Preprocessing time in ms: 2839.18\n",
      "Avg query time in us (over 50 queries): 92.056\n",
      "\n",
      "Size: 10000000\n",
      "Preprocessing time in ms: 28354.6\n",
      "Avg query time in us (over 50 queries): 110.536\n",
      "\n",
      "Size: 100000000\n",
      "Preprocessing time in ms: 273901\n",
      "Avg query time in us (over 50 queries): 155.212\n",
      "\n"
     ]
    }
   ],
   "source": [
    "for (int i = 0; i < n_vals.size(); i++) {\n",
    "    cout << \"Size: \" << n_vals[i] << \"\\n\";\n",
    "    cout << \"Preprocessing time in ms: \" << n_preprocess_times[i] / 1000.0 << \"\\n\";\n",
    "    cout << \"Avg query time in us (over \" << num_queries << \" queries): \" << n_query_times[i] / 1000.0 << \"\\n\\n\";\n",
    "}"
   ]
  },
  {
   "cell_type": "code",
   "execution_count": 18,
   "metadata": {},
   "outputs": [],
   "source": [
    "#pragma cling add_include_path(\"/Users/hashemelezabi/miniconda2/include\")\n",
    "\n",
    "#include \"xplot/xfigure.hpp\"\n",
    "#include \"xplot/xmarks.hpp\"\n",
    "#include \"xplot/xaxes.hpp\""
   ]
  },
  {
   "cell_type": "code",
   "execution_count": 19,
   "metadata": {},
   "outputs": [
    {
     "data": {
      "application/vnd.jupyter.widget-view+json": {
       "model_id": "4b9716db89644511bdc875338f2920ea",
       "version_major": 2,
       "version_minor": 0
      },
      "text/plain": [
       "A Jupyter widget"
      ]
     },
     "execution_count": 19,
     "metadata": {},
     "output_type": "execute_result"
    }
   ],
   "source": [
    "#include <string>\n",
    "\n",
    "xpl::figure n_plot;\n",
    "xpl::linear_scale x_scale, y_scale;\n",
    "\n",
    "xpl::lines n_p_line(x_scale, y_scale);\n",
    "n_p_line.x = n_vals;\n",
    "n_p_line.y = n_preprocess_times;\n",
    "n_plot.add_mark(n_p_line);\n",
    "\n",
    "vector<double> n_query_times_ms;\n",
    "for (int i = 0; i < n_query_times.size(); i++) {\n",
    "    n_query_times_ms.push_back(n_query_times[i] / 1000.0);\n",
    "}\n",
    "\n",
    "xpl::lines n_q_line(x_scale, y_scale);\n",
    "n_q_line.x = n_vals;\n",
    "n_q_line.y = n_query_times_ms;\n",
    "n_plot.add_mark(n_q_line);\n",
    "\n",
    "xpl::axis size_axis(x_scale), time_axis(y_scale);\n",
    "time_axis.orientation = \"vertical\";\n",
    "size_axis.label = \"Size of input vector\";\n",
    "time_axis.label = \"Time in milliseconds\";\n",
    "\n",
    "n_plot.add_axis(size_axis);\n",
    "n_plot.add_axis(time_axis);\n",
    "\n",
    "n_plot"
   ]
  },
  {
   "cell_type": "code",
   "execution_count": null,
   "metadata": {},
   "outputs": [],
   "source": []
  }
 ],
 "metadata": {
  "kernelspec": {
   "display_name": "C++14",
   "language": "C++14",
   "name": "xeus-cling-cpp14"
  },
  "language_info": {
   "codemirror_mode": "text/x-c++src",
   "file_extension": ".cpp",
   "mimetype": "text/x-c++src",
   "name": "c++",
   "version": "-std=c++14"
  }
 },
 "nbformat": 4,
 "nbformat_minor": 2
}
